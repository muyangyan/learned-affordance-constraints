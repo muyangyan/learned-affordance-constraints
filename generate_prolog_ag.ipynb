{
 "cells": [
  {
   "cell_type": "code",
   "execution_count": 16,
   "metadata": {},
   "outputs": [
    {
     "name": "stdout",
     "output_type": "stream",
     "text": [
      "The autoreload extension is already loaded. To reload it, use:\n",
      "  %reload_ext autoreload\n"
     ]
    }
   ],
   "source": [
    "import warnings\n",
    "warnings.filterwarnings(\"ignore\")\n",
    "\n",
    "from pyswip import Prolog\n",
    "\n",
    "import torch\n",
    "from models.rgcn import RGCN\n",
    "\n",
    "from prolog.prolog_generation import PrologData\n",
    "\n",
    "from data.ag.action_genome import AG, AGViewer\n",
    "\n",
    "%load_ext autoreload"
   ]
  },
  {
   "cell_type": "code",
   "execution_count": 17,
   "metadata": {},
   "outputs": [],
   "source": [
    "%autoreload\n",
    "# Load dataset\n",
    "root = '/data/Datasets/ag/'\n",
    "ag = AG(root, no_img=True)"
   ]
  },
  {
   "cell_type": "code",
   "execution_count": 18,
   "metadata": {},
   "outputs": [],
   "source": [
    "# Load model\n",
    "#model = RGCN(ag.num_nodes, ag.num_rels, ag.num_classes, ag.num_bases, ag.num_hidden, ag.num_layers, ag.dropout, ag.use_self_loop)\n",
    "model = None"
   ]
  },
  {
   "cell_type": "code",
   "execution_count": 19,
   "metadata": {},
   "outputs": [],
   "source": [
    "%autoreload\n",
    "# Load prolog data\n",
    "pd = PrologData('prolog', 'ag', ag, ag.object_classes, ag.relationship_classes, ag.verb_classes, \n",
    "                model=None, subset_file='data/ag/subset_shelve')"
   ]
  },
  {
   "cell_type": "code",
   "execution_count": 20,
   "metadata": {},
   "outputs": [],
   "source": [
    "%autoreload\n",
    "pd.write_bk()"
   ]
  },
  {
   "cell_type": "code",
   "execution_count": 21,
   "metadata": {},
   "outputs": [],
   "source": [
    "%autoreload\n",
    "pd.init_general_bias()"
   ]
  },
  {
   "cell_type": "code",
   "execution_count": 22,
   "metadata": {},
   "outputs": [],
   "source": [
    "%autoreload\n",
    "pd.write_verb('eat', keep_prob=0.1)"
   ]
  },
  {
   "cell_type": "code",
   "execution_count": 14,
   "metadata": {},
   "outputs": [],
   "source": [
    "%autoreload\n",
    "pd.write_verb('hold', keep_prob=0.2)"
   ]
  },
  {
   "cell_type": "code",
   "execution_count": 15,
   "metadata": {},
   "outputs": [
    {
     "data": {
      "text/plain": [
       "True"
      ]
     },
     "execution_count": 15,
     "metadata": {},
     "output_type": "execute_result"
    }
   ],
   "source": [
    "#need the verb count\n",
    "\n",
    "agview = AGViewer(ag, )\n",
    ".analyze_vocab_frequencies(ag)\n",
    "\n",
    "\n",
    "for verb in ag.verb_classes:\n",
    "    pd.write_verb(verb, keep_prob=0.1)"
   ]
  }
 ],
 "metadata": {
  "kernelspec": {
   "display_name": "ilp",
   "language": "python",
   "name": "python3"
  },
  "language_info": {
   "codemirror_mode": {
    "name": "ipython",
    "version": 3
   },
   "file_extension": ".py",
   "mimetype": "text/x-python",
   "name": "python",
   "nbconvert_exporter": "python",
   "pygments_lexer": "ipython3",
   "version": "3.9.20"
  }
 },
 "nbformat": 4,
 "nbformat_minor": 2
}
