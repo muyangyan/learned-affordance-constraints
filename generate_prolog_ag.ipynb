{
 "cells": [
  {
   "cell_type": "code",
   "execution_count": 14,
   "metadata": {},
   "outputs": [
    {
     "name": "stdout",
     "output_type": "stream",
     "text": [
      "pygame 2.6.1 (SDL 2.30.7, Python 3.9.20)\n",
      "Hello from the pygame community. https://www.pygame.org/contribute.html\n"
     ]
    }
   ],
   "source": [
    "import os\n",
    "import json\n",
    "import shelve\n",
    "\n",
    "import warnings\n",
    "warnings.filterwarnings(\"ignore\")\n",
    "\n",
    "import torch\n",
    "import numpy as np\n",
    "from models.rgcn import RGCN\n",
    "\n",
    "from prolog.prolog_generation import PrologData\n",
    "\n",
    "from data.ag.action_genome import AG, AGViewer\n",
    "\n",
    "%load_ext autoreload"
   ]
  },
  {
   "cell_type": "code",
   "execution_count": 2,
   "metadata": {},
   "outputs": [],
   "source": [
    "%autoreload\n",
    "# Load dataset\n",
    "root = '/data/Datasets/ag/'\n",
    "ag = AG(root, no_img=True)"
   ]
  },
  {
   "cell_type": "code",
   "execution_count": 3,
   "metadata": {},
   "outputs": [],
   "source": [
    "# Load model\n",
    "#model = RGCN(ag.num_nodes, ag.num_rels, ag.num_classes, ag.num_bases, ag.num_hidden, ag.num_layers, ag.dropout, ag.use_self_loop)\n",
    "model = None"
   ]
  },
  {
   "cell_type": "code",
   "execution_count": 4,
   "metadata": {},
   "outputs": [],
   "source": [
    "%autoreload\n",
    "# Load prolog data\n",
    "pd = PrologData('prolog', 'ag', ag, ag.object_classes, ag.relationship_classes, ag.verb_classes, \n",
    "                model=None, subset_file='data/ag/subset_shelve')\n",
    "\n",
    "pd.write_bk()\n",
    "pd.init_general_bias()"
   ]
  },
  {
   "cell_type": "code",
   "execution_count": 5,
   "metadata": {},
   "outputs": [],
   "source": [
    "%autoreload\n",
    "#need the verb count\n",
    "with shelve.open('data/ag/subset_shelve') as subset_dict:\n",
    "    agview = AGViewer(ag, subset_dict=subset_dict)\n",
    "    total_valid, _, verb_freq, _ = agview.analyze_vocab_frequencies()\n"
   ]
  },
  {
   "cell_type": "code",
   "execution_count": 6,
   "metadata": {},
   "outputs": [],
   "source": [
    "def exp_curve(b,x):\n",
    "    return 1-np.exp(-b*x)\n",
    "\n",
    "for verb_idx, verb_name in enumerate(ag.verb_classes):\n",
    "\n",
    "    freq = verb_freq[verb_idx]\n",
    "    ratio = freq/total_valid\n",
    "    \n",
    "    #keeps negatives according to the frequency of the verb\n",
    "    pd.write_verb(verb_name, keep_prob=exp_curve(4, ratio)) "
   ]
  },
  {
   "cell_type": "code",
   "execution_count": 17,
   "metadata": {},
   "outputs": [
    {
     "name": "stdout",
     "output_type": "stream",
     "text": [
      "pour no solution\n",
      "drink no solution\n",
      "make no solution\n",
      "laugh no solution\n",
      "put no solution\n",
      "run no solution\n",
      "talk no solution\n",
      "photograph no solution\n"
     ]
    }
   ],
   "source": [
    "def parse_logs(folder):\n",
    "    rules = {}\n",
    "    for file in os.listdir(folder):\n",
    "        rule = []\n",
    "        with open(folder + '/' + file, 'r') as f:\n",
    "            lines = f.readlines()\n",
    "            if lines[-1].strip('\\n') != \"******************************\":\n",
    "                print(file, 'no solution')\n",
    "                rules[file] = None\n",
    "                continue\n",
    "            for line in reversed(lines[:-1]):\n",
    "                line = line.strip('\\n')\n",
    "                if line[-1] != '.':\n",
    "                    break\n",
    "                rule.append(line)\n",
    "        rules[file] = rule\n",
    "    return rules\n",
    "\n",
    "rules = parse_logs('outputs/ag/popper_logs')\n",
    "\n",
    "with open('outputs/ag/rules_learned.json', 'w+') as f:\n",
    "    json.dump(rules, f)\n",
    "\n",
    "with open('outputs/ag/rules_learned.pl', 'w+') as f: \n",
    "    for verb, rule in rules.items():\n",
    "        f.write(f'%%{verb}\\n')\n",
    "        if rule is None:\n",
    "            f.write('%%No solution\\n\\n')\n",
    "            continue\n",
    "        for line in rule:\n",
    "            f.write(line + '\\n')\n",
    "        f.write('\\n')"
   ]
  },
  {
   "cell_type": "code",
   "execution_count": 13,
   "metadata": {},
   "outputs": [
    {
     "data": {
      "text/plain": [
       "{'sneeze': ['sneeze_target(A):- touching(A,B),mirror(B).'],\n",
       " 'undress': ['undress_target(A):- person(B),wearing(B,C),wearing(A,C).'],\n",
       " 'throw': ['throw_target(A):- standing_on(A,B),floor(B).',\n",
       "  'throw_target(A):- clothes(B),holding(A,B).',\n",
       "  'throw_target(A):- pillow(B),holding(A,B).'],\n",
       " 'smile': ['smile_target(A):- not_contacting(A,B),picture(B).',\n",
       "  'smile_target(A):- holding(A,B),mirror(B).',\n",
       "  'smile_target(A):- touching(A,B),broom(B).',\n",
       "  'smile_target(A):- blanket(B),other_relationship(A,B).'],\n",
       " 'work': ['work_target(A):- table(B),in_front_of(B,A).'],\n",
       " 'close': ['close_target(A):- in_front_of(B,A),refrigerator(B).',\n",
       "  'close_target(A):- in_front_of(B,A),door(B).',\n",
       "  'close_target(A):- on_the_side_of(B,A),refrigerator(B).',\n",
       "  'close_target(A):- on_the_side_of(B,A),door(B).'],\n",
       " 'take': ['take_target(A):- on_the_side_of(B,A),holding(A,B),food(B).',\n",
       "  'take_target(A):- in_front_of(B,A),clothes(B),touching(A,B).',\n",
       "  'take_target(A):- blanket(B),in_front_of(B,A),not_contacting(A,B).',\n",
       "  'take_target(A):- box(B),not_contacting(A,B).',\n",
       "  'take_target(A):- box(B),touching(A,B).',\n",
       "  'take_target(A):- other_relationship(A,B),book(B).',\n",
       "  'take_target(A):- light(B),holding(A,B).'],\n",
       " 'lie': ['lie_target(A):- floor(B),lying_on(A,B).',\n",
       "  'lie_target(A):- behind(B,A),lying_on(A,B).',\n",
       "  'lie_target(A):- above(B,A),on_the_side_of(B,A).',\n",
       "  'lie_target(A):- laptop(B),on_the_side_of(B,A).',\n",
       "  'lie_target(A):- leaning_on(A,B),bed(B).'],\n",
       " 'stand': ['stand_target(A):- shoe(B),in_front_of(B,A),wearing(A,B).',\n",
       "  'stand_target(A):- pillow(B),behind(B,A),lying_on(A,B).',\n",
       "  'stand_target(A):- other_relationship(A,B),touching(A,B).'],\n",
       " 'eat': ['eat_target(A):- on_the_side_of(B,A),sandwich(B).',\n",
       "  'eat_target(A):- in_front_of(B,A),medicine(B).',\n",
       "  'eat_target(A):- food(B),holding(A,B).'],\n",
       " 'wash': ['wash_target(A):- towel(B),on_the_side_of(B,A).',\n",
       "  'wash_target(A):- wiping(A,B),in_front_of(B,A).',\n",
       "  'wash_target(A):- towel(B),in_front_of(B,A).',\n",
       "  'wash_target(A):- towel(B),covered_by(A,B).'],\n",
       " 'hold': ['hold_target(A):- in_front_of(B,A),beneath(B,A),sitting_on(A,B).',\n",
       "  'hold_target(A):- in_front_of(B,A),shoe(B),not_contacting(A,B).',\n",
       "  'hold_target(A):- in_front_of(B,A),blanket(B),not_contacting(A,B).',\n",
       "  'hold_target(A):- bag(B),touching(A,B).',\n",
       "  'hold_target(A):- behind(B,A),clothes(B).',\n",
       "  'hold_target(A):- holding(A,B),carrying(A,B).',\n",
       "  'hold_target(A):- clothes(B),carrying(A,B).',\n",
       "  'hold_target(A):- in_front_of(B,A),sandwich(B).',\n",
       "  'hold_target(A):- towel(B),beneath(B,A).',\n",
       "  'hold_target(A):- towel(B),not_contacting(A,B).',\n",
       "  'hold_target(A):- dish(B),not_contacting(A,B).',\n",
       "  'hold_target(A):- broom(B),not_contacting(A,B).',\n",
       "  'hold_target(A):- bag(B),not_contacting(A,B).'],\n",
       " 'awaken': ['awaken_target(A):- lying_on(B,C),lying_on(A,C),person(B).',\n",
       "  'awaken_target(A):- bed(B),leaning_on(A,B).'],\n",
       " 'fix': ['fix_target(A):- light(B),above(B,A).',\n",
       "  'fix_target(A):- vacuum(B),in_front_of(B,A).',\n",
       "  'fix_target(A):- mirror(B),not_contacting(A,B).',\n",
       "  'fix_target(A):- mirror(B),holding(A,B).'],\n",
       " 'walk': ['walk_target(A):- doorway(B),not_contacting(A,B).',\n",
       "  'walk_target(A):- doorway(B),in_front_of(B,A).',\n",
       "  'walk_target(A):- doorway(B),in(B,A).'],\n",
       " 'watch': ['watch_target(A):- window(B),in_front_of(B,A).',\n",
       "  'watch_target(A):- writing_on(A,B),touching(A,B).',\n",
       "  'watch_target(A):- window(B),on_the_side_of(B,A).',\n",
       "  'watch_target(A):- laptop(B),other_relationship(A,B).',\n",
       "  'watch_target(A):- not_contacting(A,B),television(B).',\n",
       "  'watch_target(A):- holding(A,B),picture(B).',\n",
       "  'watch_target(A):- not_contacting(A,B),picture(B).',\n",
       "  'watch_target(A):- not_contacting(A,B),mirror(B).'],\n",
       " 'snuggle': ['snuggle_target(A):- blanket(B),in(B,A).',\n",
       "  'snuggle_target(A):- pillow(B),above(B,A).',\n",
       "  'snuggle_target(A):- pillow(B),in_front_of(B,A).',\n",
       "  'snuggle_target(A):- blanket(B),in_front_of(B,A).'],\n",
       " 'dress': ['dress_target(A):- clothes(B),holding(A,B).',\n",
       "  'dress_target(A):- wearing(A,B),clothes(B).',\n",
       "  'dress_target(A):- beneath(B,A),shoe(B).'],\n",
       " 'tidy': ['tidy_target(A):- in_front_of(B,A),shelf(B),not_contacting(A,B).',\n",
       "  'tidy_target(A):- clothes(B),not_contacting(A,B),behind(B,A).',\n",
       "  'tidy_target(A):- in_front_of(B,A),holding(A,B),broom(B).',\n",
       "  'tidy_target(A):- person(B),standing_on(B,C),standing_on(A,C).',\n",
       "  'tidy_target(A):- shelf(B),touching(A,B).',\n",
       "  'tidy_target(A):- medicine(B),touching(A,B).',\n",
       "  'tidy_target(A):- not_contacting(A,B),broom(B).'],\n",
       " 'cook': ['cook_target(A):- food(B),not_contacting(A,B).',\n",
       "  'cook_target(A):- food(B),touching(A,B).',\n",
       "  'cook_target(A):- food(B),beneath(B,A).'],\n",
       " 'open': ['open_target(A):- other_relationship(A,B),bed(B),on_the_side_of(B,A).',\n",
       "  'open_target(A):- refrigerator(B),holding(A,B).',\n",
       "  'open_target(A):- carrying(A,B),bag(B).',\n",
       "  'open_target(A):- door(B),on_the_side_of(B,A).',\n",
       "  'open_target(A):- refrigerator(B),not_contacting(A,B).',\n",
       "  'open_target(A):- door(B),in_front_of(B,A).'],\n",
       " 'grasp': ['grasp_target(A):- door(B),in_front_of(B,A).',\n",
       "  'grasp_target(A):- on_the_side_of(B,A),door(B).',\n",
       "  'grasp_target(A):- doorknob(B),not_contacting(A,B).'],\n",
       " 'turn': ['turn_target(A):- light(B),in_front_of(B,A).',\n",
       "  'turn_target(A):- not_contacting(A,B),light(B).'],\n",
       " 'play': ['play_target(A):- in_front_of(B,A),laptop(B).'],\n",
       " 'sit': ['sit_target(A):- lying_on(A,B),table(B).',\n",
       "  'sit_target(A):- touching(A,B),lying_on(A,B).',\n",
       "  'sit_target(A):- bed(B),not_contacting(A,B).',\n",
       "  'sit_target(A):- other_relationship(A,B),vacuum(B).',\n",
       "  'sit_target(A):- other_relationship(A,B),bed(B).',\n",
       "  'sit_target(A):- touching(A,B),chair(B).',\n",
       "  'sit_target(A):- not_contacting(A,B),chair(B).']}"
      ]
     },
     "execution_count": 13,
     "metadata": {},
     "output_type": "execute_result"
    }
   ],
   "source": [
    "rules"
   ]
  },
  {
   "cell_type": "code",
   "execution_count": 9,
   "metadata": {},
   "outputs": [
    {
     "data": {
      "text/plain": [
       "6"
      ]
     },
     "execution_count": 9,
     "metadata": {},
     "output_type": "execute_result"
    }
   ],
   "source": [
    "arr = [1,2,3,4,5,6]\n",
    "arr[-1]"
   ]
  }
 ],
 "metadata": {
  "kernelspec": {
   "display_name": "ilp",
   "language": "python",
   "name": "python3"
  },
  "language_info": {
   "codemirror_mode": {
    "name": "ipython",
    "version": 3
   },
   "file_extension": ".py",
   "mimetype": "text/x-python",
   "name": "python",
   "nbconvert_exporter": "python",
   "pygments_lexer": "ipython3",
   "version": "3.9.20"
  }
 },
 "nbformat": 4,
 "nbformat_minor": 2
}
