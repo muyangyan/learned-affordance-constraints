{
 "cells": [
  {
   "cell_type": "code",
   "execution_count": 1,
   "metadata": {},
   "outputs": [],
   "source": [
    "import warnings\n",
    "warnings.filterwarnings(\"ignore\")\n",
    "\n",
    "from pyswip import Prolog\n",
    "\n",
    "import torch\n",
    "from models.rgcn import RGCN\n",
    "\n",
    "from prolog.prolog_generation import PrologData\n",
    "\n",
    "from data.ag.action_genome import AG"
   ]
  },
  {
   "cell_type": "code",
   "execution_count": 2,
   "metadata": {},
   "outputs": [],
   "source": [
    "# Load dataset\n",
    "root = '/data/Datasets/ag/'\n",
    "ag = AG(root)"
   ]
  },
  {
   "cell_type": "code",
   "execution_count": null,
   "metadata": {},
   "outputs": [],
   "source": [
    "# Load model\n",
    "model = RGCN(ag.num_nodes, ag.num_rels, ag.num_classes, ag.num_bases, ag.num_hidden, ag.num_layers, ag.dropout, ag.use_self_loop)"
   ]
  },
  {
   "cell_type": "code",
   "execution_count": null,
   "metadata": {},
   "outputs": [],
   "source": [
    "# Load prolog data\n",
    "\n",
    "pd = PrologData('prolog', 'ag', ag, ag.object_classes, ag.relationship_classes, ag.verb_classes, model)"
   ]
  }
 ],
 "metadata": {
  "kernelspec": {
   "display_name": "ilp",
   "language": "python",
   "name": "python3"
  },
  "language_info": {
   "codemirror_mode": {
    "name": "ipython",
    "version": 3
   },
   "file_extension": ".py",
   "mimetype": "text/x-python",
   "name": "python",
   "nbconvert_exporter": "python",
   "pygments_lexer": "ipython3",
   "version": "3.9.20"
  }
 },
 "nbformat": 4,
 "nbformat_minor": 2
}
