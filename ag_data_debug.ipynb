{
 "cells": [
  {
   "cell_type": "code",
   "execution_count": 1,
   "metadata": {},
   "outputs": [],
   "source": [
    "import json\n",
    "import shelve\n",
    "from tqdm import tqdm\n",
    "import random\n",
    "import csv\n",
    "\n",
    "import matplotlib.pyplot as plt\n",
    "\n",
    "from data.ag.action_genome import AG, AGViewer\n",
    "from util.graph_utils import check_edge_exists\n",
    "\n",
    "VERBS = [\n",
    "    \"awaken\",\n",
    "    \"close\",\n",
    "    \"cook\", \n",
    "    \"dress\",\n",
    "    \"drink\",\n",
    "    \"eat\",\n",
    "    \"fix\",\n",
    "    \"grasp\", \n",
    "    \"hold\",\n",
    "    #\"laugh\",\n",
    "    \"lie\",\n",
    "    \"make\",\n",
    "    \"open\",\n",
    "    \"photograph\",\n",
    "    \"play\",\n",
    "    \"pour\",\n",
    "    \"put\",\n",
    "    \"run\",\n",
    "    \"sit\",\n",
    "    #\"smile\",\n",
    "    #\"sneeze\",\n",
    "    \"snuggle\",\n",
    "    \"stand\",\n",
    "    \"take\",\n",
    "    \"talk\",\n",
    "    \"throw\",\n",
    "    \"tidy\",\n",
    "    \"turn\",\n",
    "    \"undress\",\n",
    "    \"walk\",\n",
    "    \"wash\",\n",
    "    \"watch\",\n",
    "    \"work\"\n",
    "]\n",
    "\n",
    "root = '/data/Datasets/ag/'\n",
    "subset_file = 'data/ag/subset_shelve'\n"
   ]
  },
  {
   "cell_type": "code",
   "execution_count": null,
   "metadata": {},
   "outputs": [],
   "source": [
    "\n",
    "ag = AG(root, no_img=True, split=None, subset_file=subset_file, verb_whitelist=VERBS)\n",
    "#ag = AG(root, split=None, subset_file=None, verb_blacklist=['smile', 'laugh', 'sneeze']) #view the full dataset\n",
    "#ag = AG(root, split='test', subset_file='data/ag/subset_shelve') #view the test split dataset\n",
    "#ag = AG(root, split='train', subset_file='data/ag/subset_shelve') #view the test split dataset\n"
   ]
  },
  {
   "cell_type": "code",
   "execution_count": null,
   "metadata": {},
   "outputs": [],
   "source": [
    "print(ag.action_verb_obj_map)"
   ]
  },
  {
   "cell_type": "code",
   "execution_count": null,
   "metadata": {},
   "outputs": [],
   "source": [
    "#for a, (v, o) in sorted(ag.action_verb_obj_map.items(), key=lambda x: x[1][0]):\n",
    "for a, (v, o) in ag.action_verb_obj_map.items():\n",
    "    action = ag.action_classes[a]\n",
    "    verb = ag.verb_classes[v]\n",
    "    obj = None if o is None else ag.object_classes[o]\n",
    "    print(action, f'({verb}, {obj})')"
   ]
  },
  {
   "cell_type": "code",
   "execution_count": null,
   "metadata": {},
   "outputs": [],
   "source": [
    "%autoreload\n",
    "\n",
    "with shelve.open('data/ag/subset_shelve') as subset_dict:\n",
    "    agview = AGViewer(ag, subset_dict)\n",
    "    agview.view(0)\n",
    "    while True:\n",
    "        answer = input(f\"{agview.message}current search key : {str(agview.key)}\")\n",
    "        new_idx = agview.process_command(answer)\n",
    "        if new_idx is not None:\n",
    "            agview.view(new_idx)\n",
    "        else:\n",
    "            break\n"
   ]
  },
  {
   "cell_type": "code",
   "execution_count": null,
   "metadata": {},
   "outputs": [],
   "source": [
    "%autoreload\n",
    "idx_list = list(range(len(ag)))\n",
    "random.shuffle(idx_list)\n",
    "\n",
    "correct_count = 0\n",
    "incorrect_count = 0\n",
    "with shelve.open('data/ag/subset_shelve') as subset_dict:\n",
    "    agview = AGViewer(ag, subset_dict, human_test=True)\n",
    "    for idx in idx_list:\n",
    "        _, verb = agview.view(idx)\n",
    "        if correct_count + incorrect_count > 0:\n",
    "            accuracy = correct_count / (correct_count + incorrect_count)\n",
    "        else:\n",
    "            accuracy = 0\n",
    "        answer = input(f\"correct: {correct_count}, incorrect: {incorrect_count}, accuracy: {accuracy}\")\n",
    "        if answer == 'q':\n",
    "            break\n",
    "        if answer == verb:\n",
    "            correct_count += 1\n",
    "            print('CORRECT' + verb)\n",
    "        else:\n",
    "            incorrect_count += 1\n",
    "            print('INCORRECT' + verb)\n"
   ]
  },
  {
   "cell_type": "code",
   "execution_count": null,
   "metadata": {},
   "outputs": [],
   "source": [
    "#Check for overlap between train, val, and test splits\n",
    "with open('data/ag/split_train_val_test.json', 'r') as f:\n",
    "    split_dict = json.load(f)\n",
    "    train_ids = set(split_dict['train'])\n",
    "    val_ids = set(split_dict['val'])\n",
    "    test_ids = set(split_dict['test'])\n",
    "    \n",
    "    # Check for overlap\n",
    "    train_val_overlap = train_ids.intersection(val_ids)\n",
    "    train_test_overlap = train_ids.intersection(test_ids)\n",
    "    val_test_overlap = val_ids.intersection(test_ids)\n",
    "\n",
    "    if len(train_val_overlap) > 0 or len(train_test_overlap) > 0 or len(val_test_overlap) > 0:\n",
    "        print(f\"Warning: Found overlapping IDs between train and val splits\")\n",
    "    else:\n",
    "        print(\"No overlap found between train and test splits\")\n"
   ]
  },
  {
   "cell_type": "code",
   "execution_count": null,
   "metadata": {},
   "outputs": [],
   "source": [
    "\n",
    "VERBS = [\n",
    "    \"awaken\",\n",
    "    \"close\",\n",
    "    \"cook\", \n",
    "    \"dress\",\n",
    "    \"drink\",\n",
    "    \"eat\",\n",
    "    \"fix\",\n",
    "    \"grasp\", \n",
    "    \"hold\",\n",
    "    #\"laugh\",\n",
    "    \"lie\",\n",
    "    \"make\",\n",
    "    \"open\",\n",
    "    \"photograph\",\n",
    "    \"play\",\n",
    "    \"pour\",\n",
    "    \"put\",\n",
    "    \"run\",\n",
    "    \"sit\",\n",
    "    #\"smile\",\n",
    "    #\"sneeze\",\n",
    "    \"snuggle\",\n",
    "    \"stand\",\n",
    "    \"take\",\n",
    "    \"talk\",\n",
    "    \"throw\",\n",
    "    \"tidy\",\n",
    "    \"turn\",\n",
    "    \"undress\",\n",
    "    \"walk\",\n",
    "    \"wash\",\n",
    "    \"watch\",\n",
    "    \"work\"\n",
    "]\n",
    "\n",
    "ag = AG(root, no_img=True, split=None, subset_file=subset_file, verb_whitelist=VERBS)\n",
    "print(ag.verb_classes)\n",
    "print(ag.action_classes)\n",
    "print(ag.action_verb_obj_map)\n"
   ]
  },
  {
   "cell_type": "code",
   "execution_count": null,
   "metadata": {},
   "outputs": [],
   "source": [
    "freqs = ag.verb_label_counts\n",
    "import matplotlib.pyplot as plt\n",
    "\n",
    "plt.figure(figsize=(20,10))\n",
    "plt.bar(range(len(freqs)), freqs)\n",
    "plt.xticks(range(len(freqs)), ag.verb_classes, rotation=45, ha='right')\n",
    "plt.title('Distribution of Verb Classes')\n",
    "plt.xlabel('Verb')\n",
    "plt.ylabel('Frequency')\n",
    "plt.tight_layout()\n",
    "plt.show()\n"
   ]
  },
  {
   "cell_type": "code",
   "execution_count": null,
   "metadata": {},
   "outputs": [],
   "source": [
    "import pickle\n",
    "\n",
    "with open(root+'annotations/object_bbox_and_relationship.pkl', 'rb') as f:\n",
    "    object_annotations = pickle.load(f)"
   ]
  },
  {
   "cell_type": "code",
   "execution_count": 14,
   "metadata": {},
   "outputs": [
    {
     "data": {
      "text/plain": [
       "[{'class': 'laptop',\n",
       "  'bbox': (230.38460191768993,\n",
       "   179.69712592394802,\n",
       "   60.999536911137405,\n",
       "   29.901400057201265),\n",
       "  'attention_relationship': ['looking_at'],\n",
       "  'spatial_relationship': ['in_front_of'],\n",
       "  'contacting_relationship': ['touching'],\n",
       "  'metadata': {'tag': 'AZC1I.mp4/laptop/000453', 'set': 'train'},\n",
       "  'visible': True},\n",
       " {'class': 'chair',\n",
       "  'bbox': (202.32808857808854,\n",
       "   193.3185564435563,\n",
       "   59.61538461538461,\n",
       "   78.46153846153845),\n",
       "  'attention_relationship': ['not_looking_at'],\n",
       "  'spatial_relationship': ['beneath', 'behind'],\n",
       "  'contacting_relationship': ['sitting_on'],\n",
       "  'metadata': {'tag': 'AZC1I.mp4/chair/000453', 'set': 'train'},\n",
       "  'visible': True}]"
      ]
     },
     "execution_count": 14,
     "metadata": {},
     "output_type": "execute_result"
    }
   ],
   "source": [
    "object_annotations['AZC1I.mp4/000453.png']"
   ]
  },
  {
   "cell_type": "code",
   "execution_count": 16,
   "metadata": {},
   "outputs": [
    {
     "data": {
      "text/plain": [
       "'phone_camera_book'"
      ]
     },
     "execution_count": 16,
     "metadata": {},
     "output_type": "execute_result"
    }
   ],
   "source": [
    "s = 'phone/camera/book'\n",
    "s.replace('/', '_')"
   ]
  },
  {
   "cell_type": "code",
   "execution_count": null,
   "metadata": {},
   "outputs": [
    {
     "name": "stdout",
     "output_type": "stream",
     "text": [
      "split: train | length: 4791\n"
     ]
    },
    {
     "name": "stderr",
     "output_type": "stream",
     "text": [
      "   Call: (1) pyrun(\"consult('outputs/ag/debug_rules.pl')\", _6216) ? "
     ]
    },
    {
     "ename": "",
     "evalue": "",
     "output_type": "error",
     "traceback": [
      "\u001b[1;31mThe Kernel crashed while executing code in the current cell or a previous cell. \n",
      "\u001b[1;31mPlease review the code in the cell(s) to identify a possible cause of the failure. \n",
      "\u001b[1;31mClick <a href='https://aka.ms/vscodeJupyterKernelCrash'>here</a> for more info. \n",
      "\u001b[1;31mView Jupyter <a href='command:jupyter.viewOutput'>log</a> for further details."
     ]
    }
   ],
   "source": [
    "import numpy as np\n",
    "from pyswip import Prolog\n",
    "\n",
    "ag = AG(root, no_img=True, split='train', subset_file=subset_file, verb_whitelist=VERBS)\n",
    "\n",
    "def evaluate_rule(verb):\n",
    "    rules_file = 'outputs/ag/debug_rules.pl'\n",
    "    bk_file = 'prolog/ag/train_bk.pl'\n",
    "\n",
    "    _ = Prolog()\n",
    "\n",
    "    Prolog.consult(rules_file)\n",
    "    Prolog.consult(bk_file)\n",
    "\n",
    "    TP, FP, TN, FN = 0, 0, 0, 0\n",
    "\n",
    "    for i in tqdm(range(len(ag))):\n",
    "        _, _, _, action, _ = ag[i]\n",
    "\n",
    "        label_verb, _ = ag.action_verb_obj_map[action]\n",
    "\n",
    "        q = Prolog.query(f'{verb}_target(x{i}_0)')\n",
    "        satisfied = False\n",
    "        for q in q:\n",
    "            satisfied = True\n",
    "            break\n",
    "\n",
    "        if satisfied and label_verb == verb:\n",
    "            TP += 1\n",
    "        elif satisfied and label_verb != verb:\n",
    "            FP += 1\n",
    "        elif not satisfied and label_verb == verb:\n",
    "            FN += 1\n",
    "        else:\n",
    "            TN += 1\n",
    "\n",
    "    return TP, FP, TN, FN\n",
    "\n",
    "evaluate_rule('close')\n"
   ]
  }
 ],
 "metadata": {
  "kernelspec": {
   "display_name": "ilp",
   "language": "python",
   "name": "python3"
  },
  "language_info": {
   "codemirror_mode": {
    "name": "ipython",
    "version": 3
   },
   "file_extension": ".py",
   "mimetype": "text/x-python",
   "name": "python",
   "nbconvert_exporter": "python",
   "pygments_lexer": "ipython3",
   "version": "3.9.20"
  }
 },
 "nbformat": 4,
 "nbformat_minor": 2
}
